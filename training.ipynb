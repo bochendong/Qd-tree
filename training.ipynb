{
 "cells": [
  {
   "cell_type": "code",
   "execution_count": 30,
   "metadata": {},
   "outputs": [],
   "source": [
    "import os\n",
    "import torch\n",
    "import logging\n",
    "import torch.nn as nn\n",
    "import numpy as np\n",
    "from torchvision import transforms\n",
    "from torch.optim.lr_scheduler import StepLR\n",
    "from torch.utils.data import DataLoader\n",
    "from torch.utils.data import Dataset\n",
    "\n",
    "from Code.DataSet.Preprocess import seqence_image\n",
    "from Code.Model.VIT import get_model"
   ]
  },
  {
   "cell_type": "code",
   "execution_count": 31,
   "metadata": {},
   "outputs": [],
   "source": [
    "img_path = './Examples/test1.JPEG'\n",
    "img_size = 224\n",
    "to_size = (8, 8, 3)\n",
    "num_patches = 196\n",
    "\n",
    "out, _ = seqence_image(img_path, img_size, to_size, num_patches)"
   ]
  },
  {
   "cell_type": "code",
   "execution_count": 32,
   "metadata": {},
   "outputs": [
    {
     "name": "stdout",
     "output_type": "stream",
     "text": [
      "(8, 1568, 3)\n"
     ]
    }
   ],
   "source": [
    "print(out.shape)"
   ]
  },
  {
   "cell_type": "code",
   "execution_count": 33,
   "metadata": {},
   "outputs": [],
   "source": [
    "class ImageNetDataset(Dataset):\n",
    "    def __init__(self, to_size=(8, 8, 3), num_patches=196,transform=None):\n",
    "        self.transform = transform\n",
    "        self.img_size = img_size\n",
    "        self.to_size = to_size\n",
    "        self.num_patches = num_patches\n",
    "\n",
    "    def __len__(self):\n",
    "        return 60000\n",
    "\n",
    "    def __getitem__(self, idx):\n",
    "        img = np.random.rand(8, 1568, 3) \n",
    "        \n",
    "        img = (img * 255).astype(np.uint8)\n",
    "        \n",
    "        if self.transform:\n",
    "            img = self.transform(img)\n",
    "        \n",
    "        img = torch.tensor(img, dtype=torch.float32)\n",
    "        \n",
    "        return img, 0"
   ]
  },
  {
   "cell_type": "code",
   "execution_count": 34,
   "metadata": {},
   "outputs": [],
   "source": [
    "def learn(model, dataloader, num_epochs, optimizer, criterion, scheduler, device):\n",
    "    for epoch in range(num_epochs):\n",
    "        model.train()\n",
    "        running_loss = 0.0\n",
    "        correct = 0\n",
    "        total = 0\n",
    "        for i, data in enumerate(dataloader):\n",
    "            inputs, labels = data\n",
    "            inputs, labels = inputs.to(device), labels.to(device)\n",
    "\n",
    "            optimizer.zero_grad()\n",
    "\n",
    "            outputs = model(inputs)\n",
    "\n",
    "            loss = criterion(outputs, labels)\n",
    "            loss.backward()\n",
    "            optimizer.step()\n",
    "\n",
    "            if (i % 10 == 0):\n",
    "                running_loss += loss.item()\n",
    "                \n",
    "                _, predicted = torch.max(outputs, 1)\n",
    "                total += labels.size(0)\n",
    "                correct += (predicted == labels).sum().item()\n",
    "                \n",
    "                running_loss = 0.0\n",
    "\n",
    "        accuracy = 100 * correct / total\n",
    "        logging.info(f\"[Epoch {epoch + 1}] Acc: {accuracy:.2f}%\")\n",
    "\n",
    "        scheduler.step()\n",
    "\n",
    "    return model"
   ]
  },
  {
   "cell_type": "code",
   "execution_count": 35,
   "metadata": {},
   "outputs": [],
   "source": [
    "def train(model_type = 'vit_base_patch16_224',\n",
    "         batch_size = 128, img_size = 224, num_patches = 196, embed_dim = 768, \n",
    "         to_size = (8, 8, 3), num_classes = 1000):\n",
    "    \n",
    "    torch.manual_seed(0)\n",
    "    device = torch.device(f'cpu')\n",
    "\n",
    "    transform = transforms.Compose([\n",
    "        transforms.ToPILImage(),\n",
    "        transforms.ToTensor(),\n",
    "        transforms.Normalize(mean=[0.485, 0.456, 0.406], std=[0.229, 0.224, 0.225])\n",
    "    ])\n",
    "\n",
    "\n",
    "    dataset = ImageNetDataset(to_size = to_size, num_patches = num_patches, transform = transform)\n",
    "\n",
    "\n",
    "    model = get_model(model_type, num_classes, num_patches, embed_dim, to_size)\n",
    "    model = model.to(device)\n",
    "    dataloader = DataLoader(dataset, batch_size=batch_size, shuffle=True)\n",
    "\n",
    "    criterion = nn.CrossEntropyLoss()\n",
    "    optimizer = torch.optim.Adam(model.parameters(), lr=0.001)\n",
    "    scheduler = StepLR(optimizer, step_size=30, gamma=0.1)\n",
    "\n",
    "    model = learn(model = model, dataloader = dataloader,\n",
    "                num_epochs = 200, optimizer = optimizer, \n",
    "                criterion = criterion, scheduler = scheduler,\n",
    "                device = device)\n"
   ]
  },
  {
   "cell_type": "code",
   "execution_count": 36,
   "metadata": {},
   "outputs": [
    {
     "name": "stderr",
     "output_type": "stream",
     "text": [
      "/var/folders/fy/p355vwwd683668y784t68b2c0000gn/T/ipykernel_77907/2643402921.py:19: UserWarning: To copy construct from a tensor, it is recommended to use sourceTensor.clone().detach() or sourceTensor.clone().detach().requires_grad_(True), rather than torch.tensor(sourceTensor).\n",
      "  img = torch.tensor(img, dtype=torch.float32)\n",
      "[W NNPACK.cpp:61] Could not initialize NNPACK! Reason: Unsupported hardware.\n"
     ]
    }
   ],
   "source": [
    "train(model_type = 'vit_base_patch16_224',\n",
    "         batch_size = 128, img_size = 224, num_patches = 196, embed_dim = 768, \n",
    "         to_size = (8, 8, 3), num_classes = 1000)"
   ]
  },
  {
   "cell_type": "markdown",
   "metadata": {},
   "source": [
    "**(a)** \n",
    "```python\n",
    "x < 10      # x 小于10\n",
    "```\n",
    "\n",
    "**(b)** \n",
    "```python\n",
    "x >= 10     # x 大于等于10\n",
    "``` \n",
    "\n",
    "**(c)** \n",
    "```python\n",
    "x == 10     # x 等于10\n",
    "```\n",
    "\n",
    "**(d)**\n",
    "```python\n",
    "x <= 10    # x 小于等于10\n",
    "```"
   ]
  },
  {
   "cell_type": "code",
   "execution_count": null,
   "metadata": {},
   "outputs": [],
   "source": []
  },
  {
   "cell_type": "markdown",
   "metadata": {},
   "source": [
    "```python\n",
    "A and B and C == True\n",
    "```"
   ]
  },
  {
   "cell_type": "markdown",
   "metadata": {},
   "source": [
    "Which of the following will evaluate to `true`  if boolean expressions `A` , `B`, and `C` are all `false`?\n",
    "\n",
    "(A) `A = True, B = False, C = True`\n",
    "\n",
    "(B) `A = True, B = True, C = True`\n",
    "\n",
    "(C) `A = True, B = True, C = True`\n",
    "\n",
    "(D) `A = False, B = True, C = True`\n",
    "\n"
   ]
  },
  {
   "cell_type": "code",
   "execution_count": null,
   "metadata": {},
   "outputs": [],
   "source": []
  }
 ],
 "metadata": {
  "kernelspec": {
   "display_name": "nlp",
   "language": "python",
   "name": "python3"
  },
  "language_info": {
   "codemirror_mode": {
    "name": "ipython",
    "version": 3
   },
   "file_extension": ".py",
   "mimetype": "text/x-python",
   "name": "python",
   "nbconvert_exporter": "python",
   "pygments_lexer": "ipython3",
   "version": "3.11.8"
  }
 },
 "nbformat": 4,
 "nbformat_minor": 2
}
