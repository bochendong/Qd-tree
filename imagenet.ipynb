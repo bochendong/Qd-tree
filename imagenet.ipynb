{
 "cells": [
  {
   "cell_type": "code",
   "execution_count": 49,
   "metadata": {},
   "outputs": [],
   "source": [
    "import numpy as np\n",
    "import cv2 as cv\n",
    "import sys\n",
    "sys.path.append(\"../\")\n",
    "from matplotlib import pyplot as plt\n",
    "from quadtree import FixedQuadTree\n",
    "import torch"
   ]
  },
  {
   "cell_type": "code",
   "execution_count": 50,
   "metadata": {},
   "outputs": [],
   "source": [
    "img =np.random.rand(512, 512, 3)\n",
    "to_size = (8, 8, 3)\n",
    "img = (img*255).astype(np.uint8)\n",
    "grey_img = img\n",
    "grey_img = cv.GaussianBlur(grey_img, (3,3), 0)\n",
    "edges = cv.Canny(grey_img, 80, 100)\n",
    "resized_image = cv.resize(img, (512, 512))"
   ]
  },
  {
   "cell_type": "code",
   "execution_count": 51,
   "metadata": {},
   "outputs": [],
   "source": [
    "qdt = FixedQuadTree(domain=edges, fixed_length=1024)"
   ]
  },
  {
   "cell_type": "code",
   "execution_count": 52,
   "metadata": {},
   "outputs": [],
   "source": [
    "patched_image = qdt.serialize(resized_image, size=to_size)"
   ]
  },
  {
   "cell_type": "code",
   "execution_count": 55,
   "metadata": {},
   "outputs": [
    {
     "data": {
      "text/plain": [
       "True"
      ]
     },
     "execution_count": 55,
     "metadata": {},
     "output_type": "execute_result"
    }
   ],
   "source": [
    "seq_img = np.asarray(patched_image)\n",
    "seq_img = np.reshape(patched_image, [to_size[0], -1, to_size[2]])\n",
    "cv.imwrite(\"./test.jpg\", seq_img)"
   ]
  }
 ],
 "metadata": {
  "kernelspec": {
   "display_name": "nlp",
   "language": "python",
   "name": "python3"
  },
  "language_info": {
   "codemirror_mode": {
    "name": "ipython",
    "version": 3
   },
   "file_extension": ".py",
   "mimetype": "text/x-python",
   "name": "python",
   "nbconvert_exporter": "python",
   "pygments_lexer": "ipython3",
   "version": "3.11.8"
  }
 },
 "nbformat": 4,
 "nbformat_minor": 2
}
